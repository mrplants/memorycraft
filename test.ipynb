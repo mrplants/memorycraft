{
 "cells": [
  {
   "cell_type": "markdown",
   "id": "e9443424-d415-41cf-98e5-5e5ef041e3a0",
   "metadata": {},
   "source": [
    "# Test Notebook\n",
    "## Play with functions and new APIs before adding them to the test lineup."
   ]
  },
  {
   "cell_type": "code",
   "execution_count": 1,
   "id": "914d9437-9a24-4f1e-8a6b-f11f76271e63",
   "metadata": {},
   "outputs": [],
   "source": [
    "import matplotlib.pyplot as plt\n",
    "\n",
    "def print_centroids(c):\n",
    "    for index, image in enumerate(c):\n",
    "        image = image.numpy().astype(float).reshape(64,64,3) / 255\n",
    "        print(f\"Centroid {index}:\")\n",
    "        plt.imshow(image)\n",
    "        plt.show()\n",
    "        \n",
    "def print_centroid(c):\n",
    "    image = c\n",
    "    image = image.numpy().astype(float).reshape(64,64,3) / 255\n",
    "    plt.imshow(image)\n",
    "    plt.show()"
   ]
  },
  {
   "cell_type": "code",
   "execution_count": 2,
   "id": "8aab2b8a-fc61-4a72-9b23-ba4c924d5680",
   "metadata": {
    "tags": []
   },
   "outputs": [
    {
     "name": "stdout",
     "output_type": "stream",
     "text": [
      "Metal device set to: Apple M1\n"
     ]
    },
    {
     "name": "stderr",
     "output_type": "stream",
     "text": [
      "2022-09-15 20:48:45.162234: I tensorflow/core/common_runtime/pluggable_device/pluggable_device_factory.cc:306] Could not identify NUMA node of platform GPU ID 0, defaulting to 0. Your kernel may not have been built with NUMA support.\n",
      "2022-09-15 20:48:45.162330: I tensorflow/core/common_runtime/pluggable_device/pluggable_device_factory.cc:272] Created TensorFlow device (/job:localhost/replica:0/task:0/device:GPU:0 with 0 MB memory) -> physical PluggableDevice (device: 0, name: METAL, pci bus id: <undefined>)\n"
     ]
    }
   ],
   "source": [
    "import util\n",
    "import tensorflow as tf\n",
    "ds = util.build_frames_dataset().map(lambda x: tf.reshape(x, [-1])).shuffle(20000, seed=0)"
   ]
  },
  {
   "cell_type": "code",
   "execution_count": 4,
   "id": "772d25b1-520c-4fb4-9921-a47c59003764",
   "metadata": {
    "tags": []
   },
   "outputs": [
    {
     "ename": "KeyboardInterrupt",
     "evalue": "",
     "output_type": "error",
     "traceback": [
      "\u001b[0;31m---------------------------------------------------------------------------\u001b[0m",
      "\u001b[0;31mKeyboardInterrupt\u001b[0m                         Traceback (most recent call last)",
      "Input \u001b[0;32mIn [4]\u001b[0m, in \u001b[0;36m<cell line: 6>\u001b[0;34m()\u001b[0m\n\u001b[1;32m      8\u001b[0m centroid_counts \u001b[38;5;241m=\u001b[39m tf\u001b[38;5;241m.\u001b[39mones(k, dtype\u001b[38;5;241m=\u001b[39mtf\u001b[38;5;241m.\u001b[39mint32)\n\u001b[1;32m      9\u001b[0m running_norms \u001b[38;5;241m=\u001b[39m \u001b[38;5;241m0\u001b[39m\n\u001b[0;32m---> 10\u001b[0m \u001b[38;5;28;01mfor\u001b[39;00m batch \u001b[38;5;129;01min\u001b[39;00m ds\u001b[38;5;241m.\u001b[39mbatch(\u001b[38;5;241m10000\u001b[39m):\n\u001b[1;32m     11\u001b[0m     \u001b[38;5;66;03m# Assign samples to the centroid that each is closest to\u001b[39;00m\n\u001b[1;32m     12\u001b[0m     diffs \u001b[38;5;241m=\u001b[39m centroids \u001b[38;5;241m-\u001b[39m tf\u001b[38;5;241m.\u001b[39mexpand_dims(tf\u001b[38;5;241m.\u001b[39mcast(batch, tf\u001b[38;5;241m.\u001b[39mfloat32), axis\u001b[38;5;241m=\u001b[39m\u001b[38;5;241m1\u001b[39m)\n\u001b[1;32m     13\u001b[0m     norms \u001b[38;5;241m=\u001b[39m tf\u001b[38;5;241m.\u001b[39mreshape(diffs, [\u001b[38;5;241m-\u001b[39m\u001b[38;5;241m1\u001b[39m, diffs\u001b[38;5;241m.\u001b[39mshape[\u001b[38;5;241m2\u001b[39m]])\n",
      "File \u001b[0;32m~/miniforge3/envs/tf/lib/python3.9/site-packages/tensorflow/python/data/ops/iterator_ops.py:766\u001b[0m, in \u001b[0;36mOwnedIterator.__next__\u001b[0;34m(self)\u001b[0m\n\u001b[1;32m    764\u001b[0m \u001b[38;5;28;01mdef\u001b[39;00m \u001b[38;5;21m__next__\u001b[39m(\u001b[38;5;28mself\u001b[39m):\n\u001b[1;32m    765\u001b[0m   \u001b[38;5;28;01mtry\u001b[39;00m:\n\u001b[0;32m--> 766\u001b[0m     \u001b[38;5;28;01mreturn\u001b[39;00m \u001b[38;5;28;43mself\u001b[39;49m\u001b[38;5;241;43m.\u001b[39;49m\u001b[43m_next_internal\u001b[49m\u001b[43m(\u001b[49m\u001b[43m)\u001b[49m\n\u001b[1;32m    767\u001b[0m   \u001b[38;5;28;01mexcept\u001b[39;00m errors\u001b[38;5;241m.\u001b[39mOutOfRangeError:\n\u001b[1;32m    768\u001b[0m     \u001b[38;5;28;01mraise\u001b[39;00m \u001b[38;5;167;01mStopIteration\u001b[39;00m\n",
      "File \u001b[0;32m~/miniforge3/envs/tf/lib/python3.9/site-packages/tensorflow/python/data/ops/iterator_ops.py:749\u001b[0m, in \u001b[0;36mOwnedIterator._next_internal\u001b[0;34m(self)\u001b[0m\n\u001b[1;32m    746\u001b[0m \u001b[38;5;66;03m# TODO(b/77291417): This runs in sync mode as iterators use an error status\u001b[39;00m\n\u001b[1;32m    747\u001b[0m \u001b[38;5;66;03m# to communicate that there is no more data to iterate over.\u001b[39;00m\n\u001b[1;32m    748\u001b[0m \u001b[38;5;28;01mwith\u001b[39;00m context\u001b[38;5;241m.\u001b[39mexecution_mode(context\u001b[38;5;241m.\u001b[39mSYNC):\n\u001b[0;32m--> 749\u001b[0m   ret \u001b[38;5;241m=\u001b[39m \u001b[43mgen_dataset_ops\u001b[49m\u001b[38;5;241;43m.\u001b[39;49m\u001b[43miterator_get_next\u001b[49m\u001b[43m(\u001b[49m\n\u001b[1;32m    750\u001b[0m \u001b[43m      \u001b[49m\u001b[38;5;28;43mself\u001b[39;49m\u001b[38;5;241;43m.\u001b[39;49m\u001b[43m_iterator_resource\u001b[49m\u001b[43m,\u001b[49m\n\u001b[1;32m    751\u001b[0m \u001b[43m      \u001b[49m\u001b[43moutput_types\u001b[49m\u001b[38;5;241;43m=\u001b[39;49m\u001b[38;5;28;43mself\u001b[39;49m\u001b[38;5;241;43m.\u001b[39;49m\u001b[43m_flat_output_types\u001b[49m\u001b[43m,\u001b[49m\n\u001b[1;32m    752\u001b[0m \u001b[43m      \u001b[49m\u001b[43moutput_shapes\u001b[49m\u001b[38;5;241;43m=\u001b[39;49m\u001b[38;5;28;43mself\u001b[39;49m\u001b[38;5;241;43m.\u001b[39;49m\u001b[43m_flat_output_shapes\u001b[49m\u001b[43m)\u001b[49m\n\u001b[1;32m    754\u001b[0m   \u001b[38;5;28;01mtry\u001b[39;00m:\n\u001b[1;32m    755\u001b[0m     \u001b[38;5;66;03m# Fast path for the case `self._structure` is not a nested structure.\u001b[39;00m\n\u001b[1;32m    756\u001b[0m     \u001b[38;5;28;01mreturn\u001b[39;00m \u001b[38;5;28mself\u001b[39m\u001b[38;5;241m.\u001b[39m_element_spec\u001b[38;5;241m.\u001b[39m_from_compatible_tensor_list(ret)  \u001b[38;5;66;03m# pylint: disable=protected-access\u001b[39;00m\n",
      "File \u001b[0;32m~/miniforge3/envs/tf/lib/python3.9/site-packages/tensorflow/python/ops/gen_dataset_ops.py:3012\u001b[0m, in \u001b[0;36miterator_get_next\u001b[0;34m(iterator, output_types, output_shapes, name)\u001b[0m\n\u001b[1;32m   3010\u001b[0m \u001b[38;5;28;01mif\u001b[39;00m tld\u001b[38;5;241m.\u001b[39mis_eager:\n\u001b[1;32m   3011\u001b[0m   \u001b[38;5;28;01mtry\u001b[39;00m:\n\u001b[0;32m-> 3012\u001b[0m     _result \u001b[38;5;241m=\u001b[39m \u001b[43mpywrap_tfe\u001b[49m\u001b[38;5;241;43m.\u001b[39;49m\u001b[43mTFE_Py_FastPathExecute\u001b[49m\u001b[43m(\u001b[49m\n\u001b[1;32m   3013\u001b[0m \u001b[43m      \u001b[49m\u001b[43m_ctx\u001b[49m\u001b[43m,\u001b[49m\u001b[43m \u001b[49m\u001b[38;5;124;43m\"\u001b[39;49m\u001b[38;5;124;43mIteratorGetNext\u001b[39;49m\u001b[38;5;124;43m\"\u001b[39;49m\u001b[43m,\u001b[49m\u001b[43m \u001b[49m\u001b[43mname\u001b[49m\u001b[43m,\u001b[49m\u001b[43m \u001b[49m\u001b[43miterator\u001b[49m\u001b[43m,\u001b[49m\u001b[43m \u001b[49m\u001b[38;5;124;43m\"\u001b[39;49m\u001b[38;5;124;43moutput_types\u001b[39;49m\u001b[38;5;124;43m\"\u001b[39;49m\u001b[43m,\u001b[49m\u001b[43m \u001b[49m\u001b[43moutput_types\u001b[49m\u001b[43m,\u001b[49m\n\u001b[1;32m   3014\u001b[0m \u001b[43m      \u001b[49m\u001b[38;5;124;43m\"\u001b[39;49m\u001b[38;5;124;43moutput_shapes\u001b[39;49m\u001b[38;5;124;43m\"\u001b[39;49m\u001b[43m,\u001b[49m\u001b[43m \u001b[49m\u001b[43moutput_shapes\u001b[49m\u001b[43m)\u001b[49m\n\u001b[1;32m   3015\u001b[0m     \u001b[38;5;28;01mreturn\u001b[39;00m _result\n\u001b[1;32m   3016\u001b[0m   \u001b[38;5;28;01mexcept\u001b[39;00m _core\u001b[38;5;241m.\u001b[39m_NotOkStatusException \u001b[38;5;28;01mas\u001b[39;00m e:\n",
      "\u001b[0;31mKeyboardInterrupt\u001b[0m: "
     ]
    }
   ],
   "source": [
    "k = 10\n",
    "# Initialize k with the first few random points\n",
    "centroids = tf.Variable(tf.cast(tf.stack([f for f in ds.take(k)]), tf.float32))\n",
    "next_round_centroids = tf.Variable(centroids)\n",
    "last_entropy = None\n",
    "for _ in range(10):\n",
    "    # Keep track of counts of points assigned to each centroid\n",
    "    centroid_counts = tf.ones(k, dtype=tf.int32)\n",
    "    running_norms = 0\n",
    "    for batch in ds.batch(10000):\n",
    "        # Assign samples to the centroid that each is closest to\n",
    "        diffs = centroids - tf.expand_dims(tf.cast(batch, tf.float32), axis=1)\n",
    "        norms = tf.reshape(diffs, [-1, diffs.shape[2]])\n",
    "        norms = tf.reshape(tf.norm(norms, axis=1), diffs.shape[:2])\n",
    "        assigned_centroids = tf.cast(tf.math.argmin(norms, axis=1), tf.int32)\n",
    "        running_norms += tf.reduce_sum(tf.reduce_min(norms, axis=1))\n",
    "        # Calculate updated counts for each centroid (for calculating online average)\n",
    "        batch_centroid_counts = tf.math.bincount(assigned_centroids, minlength=k)\n",
    "        new_centroid_counts = centroid_counts + batch_centroid_counts\n",
    "        # Update the next round centroids as mean of all assigned points\n",
    "        c_update_sum = []\n",
    "        for c_index in range(k):\n",
    "            c_update_sum.append(tf.reduce_sum(tf.cast(tf.where(tf.equal(assigned_centroids[:,tf.newaxis], c_index), batch, [0]), tf.int32), axis=0))\n",
    "        c_update_sum = tf.cast(tf.stack(c_update_sum), tf.float32)\n",
    "        c_update_mean = tf.math.divide_no_nan(c_update_sum, tf.cast(batch_centroid_counts[:,tf.newaxis], tf.float32))\n",
    "        update_fractions = tf.cast(centroid_counts / new_centroid_counts, tf.float32)\n",
    "        next_round_centroids.assign(next_round_centroids * update_fractions[:,tf.newaxis] + c_update_mean * (1-update_fractions)[:,tf.newaxis])\n",
    "        centroid_counts = new_centroid_counts\n",
    "    # Determine convergence criteria.  Break if converged.\n",
    "    entropy = running_norms\n",
    "    if last_entropy != None and last_entropy == entropy:\n",
    "        break\n",
    "    last_entropy = entropy\n",
    "    print(entropy.numpy())\n",
    "    # Update centroids from next_round_centroids\n",
    "    centroids.assign(next_round_centroids)"
   ]
  },
  {
   "cell_type": "code",
   "execution_count": null,
   "id": "f4fd123f-4a82-4d38-a4af-1bc68c6eb89d",
   "metadata": {},
   "outputs": [],
   "source": []
  }
 ],
 "metadata": {
  "kernelspec": {
   "display_name": "Python [conda env:tf]",
   "language": "python",
   "name": "conda-env-tf-py"
  },
  "language_info": {
   "codemirror_mode": {
    "name": "ipython",
    "version": 3
   },
   "file_extension": ".py",
   "mimetype": "text/x-python",
   "name": "python",
   "nbconvert_exporter": "python",
   "pygments_lexer": "ipython3",
   "version": "3.9.13"
  }
 },
 "nbformat": 4,
 "nbformat_minor": 5
}
