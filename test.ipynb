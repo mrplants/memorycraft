{
 "cells": [
  {
   "cell_type": "markdown",
   "id": "e9443424-d415-41cf-98e5-5e5ef041e3a0",
   "metadata": {},
   "source": [
    "# Test Notebook\n",
    "## Rapidly play with functions and APIs before adding them to the test lineup."
   ]
  },
  {
   "cell_type": "code",
   "execution_count": 42,
   "id": "8aab2b8a-fc61-4a72-9b23-ba4c924d5680",
   "metadata": {
    "tags": []
   },
   "outputs": [],
   "source": [
    "import tensorflow as tf\n",
    "import util\n",
    "\n",
    "def minerl_frames_dataset() -> tf.data.Dataset:\n",
    "    \"\"\" Returns a data pipeline for frames from the MineRL dataset\n",
    "    \n",
    "    The Dataset stages are:\n",
    "    1. Collect the filepaths of all minerl mp4s\n",
    "    2. Convert the file contents into batches of frames.\n",
    "    3. Unbatch the frames.\n",
    "    \"\"\"\n",
    "    # TODO: Tensorflow does not have a stable video decode function, so I use\n",
    "    #   openCV.  This forces a py_function in the data pipeline.  According to\n",
    "    #   Tensorflow, this inhibits thread parallelization.  Two solutions:\n",
    "    #     1. Pre-process the videos into .npy files using GNU parallel\n",
    "    #     2. Use Tensorflow's tfio experimental decode_video()\n",
    "\n",
    "    # STEP 1\n",
    "    filepaths = []\n",
    "    for root, dirs, files in os.walk(os.environ['MINERL_DATA_ROOT']):\n",
    "        for file in files:\n",
    "            if os.path.splitext(file)[1] == '.mp4':\n",
    "                filepaths.append(os.path.join(root, file))\n",
    "    dataset = tf.data.Dataset.list_files(filepaths)\n",
    "    # STEP 2\n",
    "    dataset = dataset.map(lambda x: tf.py_function(lambda tf_string: util.get_frames(tf_string.numpy().decode('utf-8')), inp=[x], Tout=tf.uint8))\n",
    "    # STEP 3\n",
    "    dataset = dataset.unbatch()\n",
    "    return dataset"
   ]
  },
  {
   "cell_type": "code",
   "execution_count": null,
   "id": "772d25b1-520c-4fb4-9921-a47c59003764",
   "metadata": {},
   "outputs": [],
   "source": []
  }
 ],
 "metadata": {
  "kernelspec": {
   "display_name": "Python [conda env:tf]",
   "language": "python",
   "name": "conda-env-tf-py"
  },
  "language_info": {
   "codemirror_mode": {
    "name": "ipython",
    "version": 3
   },
   "file_extension": ".py",
   "mimetype": "text/x-python",
   "name": "python",
   "nbconvert_exporter": "python",
   "pygments_lexer": "ipython3",
   "version": "3.9.13"
  }
 },
 "nbformat": 4,
 "nbformat_minor": 5
}
