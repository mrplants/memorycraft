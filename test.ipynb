{
 "cells": [
  {
   "cell_type": "markdown",
   "id": "e9443424-d415-41cf-98e5-5e5ef041e3a0",
   "metadata": {},
   "source": [
    "# Test Notebook\n",
    "## Play with functions and new APIs before adding them to the test lineup."
   ]
  },
  {
   "cell_type": "code",
   "execution_count": 42,
   "id": "8aab2b8a-fc61-4a72-9b23-ba4c924d5680",
   "metadata": {
    "tags": []
   },
   "outputs": [],
   "source": []
  },
  {
   "cell_type": "code",
   "execution_count": null,
   "id": "772d25b1-520c-4fb4-9921-a47c59003764",
   "metadata": {},
   "outputs": [],
   "source": []
  }
 ],
 "metadata": {
  "kernelspec": {
   "display_name": "Python [conda env:tf]",
   "language": "python",
   "name": "conda-env-tf-py"
  },
  "language_info": {
   "codemirror_mode": {
    "name": "ipython",
    "version": 3
   },
   "file_extension": ".py",
   "mimetype": "text/x-python",
   "name": "python",
   "nbconvert_exporter": "python",
   "pygments_lexer": "ipython3",
   "version": "3.9.13"
  }
 },
 "nbformat": 4,
 "nbformat_minor": 5
}
