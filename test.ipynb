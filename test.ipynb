{
 "cells": [
  {
   "cell_type": "markdown",
   "id": "e9443424-d415-41cf-98e5-5e5ef041e3a0",
   "metadata": {},
   "source": [
    "# Test Notebook\n",
    "## Play with functions and new APIs before adding them to the test lineup."
   ]
  },
  {
   "cell_type": "code",
   "execution_count": 1,
   "id": "914d9437-9a24-4f1e-8a6b-f11f76271e63",
   "metadata": {},
   "outputs": [],
   "source": [
    "import matplotlib.pyplot as plt\n",
    "\n",
    "def print_centroids(c):\n",
    "    for index, image in enumerate(c):\n",
    "        image = image.numpy().astype(float).reshape(64,64,3) / 255\n",
    "        print(f\"Centroid {index}:\")\n",
    "        plt.imshow(image)\n",
    "        plt.show()\n",
    "        \n",
    "def print_centroid(c):\n",
    "    image = c\n",
    "    image = image.numpy().astype(float).reshape(64,64,3) / 255\n",
    "    plt.imshow(image)\n",
    "    plt.show()"
   ]
  },
  {
   "cell_type": "code",
   "execution_count": 2,
   "id": "8aab2b8a-fc61-4a72-9b23-ba4c924d5680",
   "metadata": {
    "tags": []
   },
   "outputs": [
    {
     "name": "stdout",
     "output_type": "stream",
     "text": [
      "Metal device set to: Apple M1\n"
     ]
    },
    {
     "name": "stderr",
     "output_type": "stream",
     "text": [
      "2022-09-15 18:04:04.704031: I tensorflow/core/common_runtime/pluggable_device/pluggable_device_factory.cc:305] Could not identify NUMA node of platform GPU ID 0, defaulting to 0. Your kernel may not have been built with NUMA support.\n",
      "2022-09-15 18:04:04.704131: I tensorflow/core/common_runtime/pluggable_device/pluggable_device_factory.cc:271] Created TensorFlow device (/job:localhost/replica:0/task:0/device:GPU:0 with 0 MB memory) -> physical PluggableDevice (device: 0, name: METAL, pci bus id: <undefined>)\n"
     ]
    }
   ],
   "source": [
    "import util\n",
    "import tensorflow as tf\n",
    "ds = util.build_frames_dataset().map(lambda x: tf.reshape(x, [-1])).shuffle(10000, seed=0)"
   ]
  },
  {
   "cell_type": "code",
   "execution_count": null,
   "id": "772d25b1-520c-4fb4-9921-a47c59003764",
   "metadata": {},
   "outputs": [
    {
     "name": "stderr",
     "output_type": "stream",
     "text": [
      "2022-09-15 18:04:04.780025: W tensorflow/core/platform/profile_utils/cpu_utils.cc:128] Failed to get CPU frequency: 0 Hz\n"
     ]
    }
   ],
   "source": [
    "k = 10\n",
    "# Initialize k with the first few random points\n",
    "centroids = tf.Variable(tf.cast(tf.stack([f for f in ds.take(k)]), tf.float32))\n",
    "next_round_centroids = tf.Variable(centroids)\n",
    "for _ in range(10):\n",
    "    # Keep track of counts of points assigned to each centroid\n",
    "    # print_centroids(centroids)\n",
    "    centroid_counts = tf.ones(k, dtype=tf.int32)\n",
    "    for batch in ds.batch(10000):\n",
    "        # Assign samples to the centroid that each is closest to\n",
    "        diffs = centroids - tf.expand_dims(tf.cast(batch, tf.float32), axis=1)\n",
    "        norms = tf.reshape(diffs, [-1, diffs.shape[2]])\n",
    "        norms = tf.reshape(tf.norm(norms, axis=1), diffs.shape[:2])\n",
    "        assigned_centroids = tf.cast(tf.math.argmax(norms, axis=1), tf.int32)\n",
    "        # Calculate updated counts for each centroid (for calculating online average)\n",
    "        batch_centroid_counts = tf.math.bincount(assigned_centroids, minlength=k)\n",
    "        new_centroid_counts = centroid_counts + batch_centroid_counts\n",
    "        # Update the next round centroids as mean of all assigned points\n",
    "        c_update_sum = []\n",
    "        for c_index in range(k):\n",
    "            c_update_sum.append(tf.reduce_sum(tf.cast(tf.where(tf.equal(assigned_centroids[:,tf.newaxis], c_index), batch, [0]), tf.int32), axis=0))\n",
    "        c_update_sum = tf.cast(tf.stack(c_update_sum), tf.float32)\n",
    "        c_update_mean = tf.math.divide_no_nan(c_update_sum, tf.cast(batch_centroid_counts[:,tf.newaxis], tf.float32))\n",
    "        update_fractions = tf.cast(centroid_counts / new_centroid_counts, tf.float32)\n",
    "        next_round_centroids.assign(next_round_centroids * update_fractions[:,tf.newaxis] + c_update_mean * (1-update_fractions)[:,tf.newaxis])\n",
    "        centroid_counts = new_centroid_counts\n",
    "    print(centroid_counts)\n",
    "    print(tf.norm(centroids-next_round_centroids))\n",
    "    # Determine convergence criteria.  Break if converged.\n",
    "    # Update centroids from next_round_centroids\n",
    "    centroids.assign(next_round_centroids)\n"
   ]
  },
  {
   "cell_type": "code",
   "execution_count": null,
   "id": "488d55ed-a3be-4cbc-b049-94e4dc0e76b0",
   "metadata": {},
   "outputs": [],
   "source": [
    "print_centroids(centroids)"
   ]
  },
  {
   "cell_type": "code",
   "execution_count": null,
   "id": "7d3416a7-061e-48fd-90f3-6a6382c48dbf",
   "metadata": {},
   "outputs": [],
   "source": []
  }
 ],
 "metadata": {
  "kernelspec": {
   "display_name": "Python [conda env:tf]",
   "language": "python",
   "name": "conda-env-tf-py"
  },
  "language_info": {
   "codemirror_mode": {
    "name": "ipython",
    "version": 3
   },
   "file_extension": ".py",
   "mimetype": "text/x-python",
   "name": "python",
   "nbconvert_exporter": "python",
   "pygments_lexer": "ipython3",
   "version": "3.9.13"
  }
 },
 "nbformat": 4,
 "nbformat_minor": 5
}
